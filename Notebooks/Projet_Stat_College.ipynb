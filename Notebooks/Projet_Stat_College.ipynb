{
 "cells": [
  {
   "cell_type": "markdown",
   "id": "86938b0b-3a3d-4a82-bad9-587649ff9700",
   "metadata": {},
   "source": [
    "# Analyse statistique sur le décrochage scolaire"
   ]
  },
  {
   "cell_type": "raw",
   "id": "bb7a71f5-f881-4c80-84e3-0fa026ed9852",
   "metadata": {},
   "source": [
    "Lien vers les données : https://data.education.gouv.fr/explore/dataset/fr-en-college\u0002effectifs-niveau-sexe-lv/."
   ]
  },
  {
   "cell_type": "code",
   "execution_count": null,
   "id": "b6bf29dd-e1a1-4bdb-8d70-9b8808f1aca7",
   "metadata": {},
   "outputs": [],
   "source": [
    "# Import packages\n",
    "import numpy as np\n",
    "import pandas as pd\n",
    "import matplotlib.pyplot as plt\n",
    "import seaborn as sns\n",
    "from scipy.stats import pearsonr\n",
    "import scipy.stats as stats\n",
    "import statsmodels.formula.api as smf\n",
    "import statsmodels.api as sm\n",
    "from scipy.stats import shapiro"
   ]
  },
  {
   "cell_type": "code",
   "execution_count": null,
   "id": "54fd948d-aa24-44d8-9ccd-7285b689f9c6",
   "metadata": {},
   "outputs": [],
   "source": [
    "#Import des data\n",
    "df=pd.read_csv(\"fr-en-college-effectifs-niveau-sexe-lv.csv\", on_bad_lines='skip', sep=\";\")\n",
    "\n",
    "# Construction de notre jeu de données\n",
    "data=df[['Numéro du collège','Rentrée scolaire','Nombre d\\'élèves total','Secteur',\n",
    "         '6èmes total','6èmes garçons','6èmes filles',\n",
    "         '5èmes total','5èmes garçons','5èmes filles',\n",
    "         '4èmes total','4èmes garçons','4èmes filles',\n",
    "         '3èmes total','3èmes garçons','3èmes filles'\n",
    "         ]]\n",
    "\n",
    "numeric_columns = data.select_dtypes(include='number').columns\n",
    "\n",
    "data_changed=data.groupby('Numéro du collège')[numeric_columns].mean()\n",
    "\n",
    "for col in ['Nombre d\\'élèves total','Secteur']:\n",
    "    data_changed[col] = data.groupby('Numéro du collège')[col].first().values\n",
    "    \n",
    "ordered_columns = ['Nombre d\\'élèves total', 'Secteur',\n",
    "                   '6èmes total', '6èmes garçons', '6èmes filles',\n",
    "                   '5èmes total', '5èmes garçons', '5èmes filles',\n",
    "                   '4èmes total', '4èmes garçons', '4èmes filles',\n",
    "                   '3èmes total', '3èmes garçons', '3èmes filles'\n",
    "                   ]\n",
    "data_changed = data_changed[ordered_columns]\n",
    "\n",
    "data_changed['Garçons'] = data_changed['6èmes garçons'] + data_changed['5èmes garçons'] + data_changed['4èmes garçons'] + data_changed['3èmes garçons']\n",
    "data_changed['Filles'] = data_changed['6èmes filles'] + data_changed['5èmes filles'] + data_changed['4èmes filles'] + data_changed['3èmes filles']"
   ]
  },
  {
   "cell_type": "code",
   "execution_count": null,
   "id": "c920bb78-24c3-456f-bfbb-040e3985a733",
   "metadata": {},
   "outputs": [],
   "source": [
    "#Visualisations des données\n",
    "df[\"Rentrée scolaire\"].unique()\n",
    "data_changed.info()\n",
    "data_changed.describe()\n",
    "\n",
    "columns_to_plot = ['decrochage', 'Nombre d\\'élèves total']\n",
    "data_changed[columns_to_plot].hist(figsize=(8,9))"
   ]
  },
  {
   "cell_type": "markdown",
   "id": "dfef0112-fc01-4c2b-9eee-8b503fdcc446",
   "metadata": {},
   "source": [
    "## Question 1 : Certains collèges ont t'ils davantage de décrochages scolaire que d'autres ? \n",
    "(réduction \n",
    "du nombre d'élèves entre la 6e et la 3e\r"
   ]
  },
  {
   "cell_type": "code",
   "execution_count": null,
   "id": "173cf141-f086-4edf-a140-c1d1e6ba3f67",
   "metadata": {},
   "outputs": [],
   "source": []
  },
  {
   "cell_type": "markdown",
   "id": "097263f8-e712-4c34-a22b-8f9ea8e94d1d",
   "metadata": {},
   "source": [
    "## Question 2 : Cette tendance a-t'elle un lien avec la taille du collège ? (volume d'étudiants)"
   ]
  },
  {
   "cell_type": "code",
   "execution_count": null,
   "id": "e3538771-05f0-4c63-9936-bcdbce044049",
   "metadata": {},
   "outputs": [],
   "source": []
  },
  {
   "cell_type": "markdown",
   "id": "852c43a4-4b6f-438d-9d1b-e3570963c30d",
   "metadata": {},
   "source": [
    "## Question 3 : Est-ce la même conclusion pour les garçons que pour les filles ?"
   ]
  },
  {
   "cell_type": "code",
   "execution_count": null,
   "id": "46a6a971-9f3b-4cf3-bd0c-a4d772942132",
   "metadata": {},
   "outputs": [],
   "source": []
  },
  {
   "cell_type": "markdown",
   "id": "99039b68-361f-4079-8496-706d173ab1e0",
   "metadata": {},
   "source": [
    "## Question 4 : Est-ce que le constat change en fonction de la région ?"
   ]
  },
  {
   "cell_type": "code",
   "execution_count": null,
   "id": "ed4476cd-4189-491a-a522-0303e2a61ed0",
   "metadata": {},
   "outputs": [],
   "source": []
  },
  {
   "cell_type": "markdown",
   "id": "ed8bddcb-350b-4d76-a025-9b978953c79d",
   "metadata": {},
   "source": [
    "## Question 5 : Y-a-t'il un lien avec le fait d'être en collège public ou privé ?"
   ]
  },
  {
   "cell_type": "code",
   "execution_count": null,
   "id": "781097a3-a093-41ab-9d6b-8e9aab2a60fb",
   "metadata": {},
   "outputs": [],
   "source": []
  }
 ],
 "metadata": {
  "kernelspec": {
   "display_name": "Python 3 (ipykernel)",
   "language": "python",
   "name": "python3"
  },
  "language_info": {
   "codemirror_mode": {
    "name": "ipython",
    "version": 3
   },
   "file_extension": ".py",
   "mimetype": "text/x-python",
   "name": "python",
   "nbconvert_exporter": "python",
   "pygments_lexer": "ipython3",
   "version": "3.11.7"
  }
 },
 "nbformat": 4,
 "nbformat_minor": 5
}
